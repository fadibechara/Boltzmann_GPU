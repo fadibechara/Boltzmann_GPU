{
  "nbformat": 4,
  "nbformat_minor": 0,
  "metadata": {
    "colab": {
      "name": "Boltzmann_GPU.ipynb",
      "provenance": [],
      "collapsed_sections": [],
      "authorship_tag": "ABX9TyOFQrg8sQCUWT81m/3drPZj",
      "include_colab_link": true
    },
    "kernelspec": {
      "display_name": "Python 3",
      "name": "python3"
    },
    "accelerator": "GPU"
  },
  "cells": [
    {
      "cell_type": "markdown",
      "metadata": {
        "id": "view-in-github",
        "colab_type": "text"
      },
      "source": [
        "<a href=\"https://colab.research.google.com/github/fadibechara/Boltzmann_GPU/blob/main/Boltzmann_GPU.ipynb\" target=\"_parent\"><img src=\"https://colab.research.google.com/assets/colab-badge.svg\" alt=\"Open In Colab\"/></a>"
      ]
    },
    {
      "cell_type": "code",
      "metadata": {
        "id": "_4rONk7ivMdV"
      },
      "source": [
        "import numpy as np\r\n",
        "import matplotlib.pyplot as plt\r\n",
        "from matplotlib import cm\r\n",
        "import pandas as pd\r\n",
        "import time\r\n",
        "from math import sin, pi\r\n",
        "from numba import cuda, float64\r\n",
        "from matplotlib.pyplot import imshow\r\n",
        "\r\n",
        "###### Flow definition #################################################\r\n",
        "maxIter = 200000  # Total number of time iterations.\r\n",
        "Re = 150.0         # Reynolds number.\r\n",
        "nx, ny = 420, 180 # Numer of lattice nodes.\r\n",
        "ly = ny-1         # Height of the domain in lattice units.\r\n",
        "cx, cy, r = nx//4, ny//2, ny//9 # Coordinates of the cylinder.\r\n",
        "uLB     = 0.04                  # Velocity in lattice units.\r\n",
        "nulb    = uLB*r/Re;             # Viscoscity in lattice units.\r\n",
        "omega = 1 / (3*nulb+0.5);    # Relaxation parameter.\r\n",
        "\r\n",
        "###### Lattice Constants ###############################################\r\n",
        "v = np.array([ [ 1,  1], [ 1,  0], [ 1, -1], [ 0,  1], [ 0,  0],\r\n",
        "               [ 0, -1], [-1,  1], [-1,  0], [-1, -1] ])\r\n",
        "t = np.array([ 1/36, 1/9, 1/36, 1/9, 4/9, 1/9, 1/36, 1/9, 1/36])\r\n",
        "\r\n",
        "col1 = np.array([0, 1, 2])\r\n",
        "col2 = np.array([3, 4, 5])\r\n",
        "col3 = np.array([6, 7, 8])"
      ],
      "execution_count": null,
      "outputs": []
    },
    {
      "cell_type": "code",
      "metadata": {
        "id": "YiM-7pK3vNQf"
      },
      "source": [
        "def macroscopic(fin):\r\n",
        "    \"\"\"Compute macroscopic variables (density, velocity)\r\n",
        "\r\n",
        "    fluid density is 0th moment of distribution functions \r\n",
        "    fluid velocity components are 1st order moments of fdist. functions\r\n",
        "    \"\"\"\r\n",
        "    rho = np.sum(fin, axis=0)\r\n",
        "    u = np.zeros((2, nx, ny))\r\n",
        "    for i in range(9):\r\n",
        "        u[0,:,:] += v[i,0] * fin[i,:,:]\r\n",
        "        u[1,:,:] += v[i,1] * fin[i,:,:]\r\n",
        "    u /= rho\r\n",
        "    return rho, u\r\n",
        "def equilibrium(rho, u):\r\n",
        "    \"\"\"Equilibrium distribution function.\r\n",
        "    \"\"\"\r\n",
        "    usqr = 3/2 * (u[0]**2 + u[1]**2)\r\n",
        "    feq = np.zeros((9,nx,ny))\r\n",
        "    for i in range(9):\r\n",
        "        cu = 3 * (v[i,0]*u[0,:,:] + v[i,1]*u[1,:,:])\r\n",
        "        feq[i,:,:] = rho*t[i] * (1 + cu + 0.5*cu**2 - usqr)\r\n",
        "    return feq"
      ],
      "execution_count": null,
      "outputs": []
    },
    {
      "cell_type": "code",
      "metadata": {
        "id": "qgr3wT7QvVGO"
      },
      "source": [
        "\r\n",
        "def obstacle_fun(x, y):\r\n",
        "    return (x-cx)**2+(y-cy)**2<r**2"
      ],
      "execution_count": null,
      "outputs": []
    },
    {
      "cell_type": "code",
      "metadata": {
        "id": "HTuMQUiVvXxs"
      },
      "source": [
        "def inivel(d, x, y):\r\n",
        "    return (1-d) * uLB * (1 + 1e-4*np.sin(y/ly*2*np.pi))"
      ],
      "execution_count": null,
      "outputs": []
    },
    {
      "cell_type": "code",
      "metadata": {
        "id": "R1kzvvxovZmz"
      },
      "source": [
        "def main_cpu(max_iterations):\r\n",
        "\r\n",
        "    # create obstacle mask array from element-wise function\r\n",
        "    obstacle = np.fromfunction(obstacle_fun, (nx,ny))\r\n",
        "\r\n",
        "    # initial velocity field vx,vy from element-wise function\r\n",
        "    # vel is also used for inflow border condition\r\n",
        "    vel = np.fromfunction(inivel, (2,nx,ny))\r\n",
        "\r\n",
        "    # Initialization of the populations at equilibrium \r\n",
        "    # with the given velocity.\r\n",
        "    fin = equilibrium(1, vel)\r\n",
        "\r\n",
        "    ###### Main time loop ########\r\n",
        "    for time in range(max_iterations):\r\n",
        "\r\n",
        "        # Right wall: outflow condition.\r\n",
        "        # we only need here to specify distrib. function for velocities\r\n",
        "        # that enter the domain (other that go out, are set by the streaming step)\r\n",
        "        fin[col3,nx-1,:] = fin[col3,nx-2,:] \r\n",
        "\r\n",
        "        # Compute macroscopic variables, density and velocity.\r\n",
        "        rho, u = macroscopic(fin)\r\n",
        "\r\n",
        "        # Left wall: inflow condition.\r\n",
        "        u[:,0,:] = vel[:,0,:]\r\n",
        "        rho[0,:] = 1/(1-u[0,0,:]) * ( np.sum(fin[col2,0,:], axis=0) +\r\n",
        "                                      2*np.sum(fin[col3,0,:], axis=0) )\r\n",
        "        \r\n",
        "        # Compute equilibrium.\r\n",
        "        feq = equilibrium(rho, u)\r\n",
        "        fin[[0,1,2],0,:] = feq[[0,1,2],0,:] + fin[[8,7,6],0,:] - feq[[8,7,6],0,:]\r\n",
        "\r\n",
        "        # Collision step.\r\n",
        "        fout = fin - omega * (fin - feq)\r\n",
        "\r\n",
        "        # Bounce-back condition for obstacle.\r\n",
        "        # in python language, we \"slice\" fout by obstacle\r\n",
        "        for i in range(9):\r\n",
        "            fout[i, obstacle] = fin[8-i, obstacle]\r\n",
        "\r\n",
        "        # Streaming step.\r\n",
        "        for i in range(9):\r\n",
        "            fin[i,:,:] = np.roll(np.roll(fout[i,:,:], v[i,0], axis=0),\r\n",
        "                                 v[i,1], axis=1 )\r\n",
        " \r\n",
        "        # Visualization of the velocity.\r\n",
        "        # if (time%100==0):\r\n",
        "        #     #print(time)\r\n",
        "        #     plt.clf()\r\n",
        "        #     plt.imshow(np.sqrt(u[0]**2+u[1]**2).transpose(), cmap=cm.Reds)\r\n",
        "        #     plt.savefig(\"vel.{0:04d}.png\".format(time//100))"
      ],
      "execution_count": null,
      "outputs": []
    },
    {
      "cell_type": "markdown",
      "metadata": {
        "id": "15j3rpLqRELU"
      },
      "source": [
        "# Sequential Baseline\r\n",
        "\r\n",
        "Examining the Sequential CPU version, we can clearly notice that there is an immense need for parallelisation in this use case as our **sequential** code is taking almost **2 hours** to execute.\r\n",
        "\r\n",
        "This is wehere GPUs come into play as they thrive in an enviroment with high **arithmetic intensity** and **embarassingly parallel** computations.\r\n",
        "\r\n",
        "Since LBM checks both of those boxes, we will proceed to using the ***numba*** CUDA library in an effort to decrease our total execution time thanks to the GPU."
      ]
    },
    {
      "cell_type": "code",
      "metadata": {
        "colab": {
          "background_save": true,
          "base_uri": "https://localhost:8080/"
        },
        "id": "klN3WFvvvgMB",
        "outputId": "dfa0895f-ac5b-49ad-c2d4-a63b97ea2a60"
      },
      "source": [
        "\r\n",
        "if __name__ == \"__main__\":\r\n",
        "    %time\r\n",
        "    start_time = time.time() # execute only if run as a script\r\n",
        "    main_cpu(200000)\r\n",
        "    elapsed_time = time.time() - start_time\r\n",
        "    print('Sequential Algorithm Took in SECONDS')\r\n",
        "    print(elapsed_time)"
      ],
      "execution_count": null,
      "outputs": [
        {
          "output_type": "stream",
          "text": [
            "CPU times: user 4 µs, sys: 0 ns, total: 4 µs\n",
            "Wall time: 6.91 µs\n",
            "Sequential Algorithm Took in SECONDS\n",
            "5359.781145095825\n"
          ],
          "name": "stdout"
        },
        {
          "output_type": "display_data",
          "data": {
            "image/png": "[encoded data removed]",
            "text/plain": [
              "<Figure size 432x288 with 1 Axes>"
            ]
          },
          "metadata": {
            "tags": []
          }
        }
      ]
    },
    {
      "cell_type": "code",
      "metadata": {
        "id": "zWRHobwyIWkU"
      },
      "source": [
        "import plotly.express as px\r\n",
        "import numba\r\n",
        "from numba import cuda\r\n",
        "\r\n",
        "\r\n",
        "######### Moving required data to device global memory ##################################\r\n",
        "n_ = [nx,ny]\r\n",
        "n_d = cuda.to_device(n_)\r\n",
        "\r\n",
        "v_d = cuda.to_device(v)\r\n",
        "t_d = cuda.to_device(t)"
      ],
      "execution_count": null,
      "outputs": []
    },
    {
      "cell_type": "markdown",
      "metadata": {
        "id": "JoXhpyhpX32h"
      },
      "source": [
        "# GPU programming methods and trials\r\n",
        "\r\n",
        "Starting out with GPU basic architecture, the most import aspects to keep in mind for performance were memory access, management and coalescence.\r\n",
        "\r\n",
        "I initially had each step of the sequential algorithm sorted in its own respective kernel. This naive way of gpu programming, although led to some speedup, felt was missing memory efficiency especially with a local, **embarssingly parallel** algorithm such as Lattice-Boltzmann.\r\n",
        "\r\n",
        "At the beginning brainstorming stages i had the initial_velocity, feq, obstacle and rho vectors in global GPU memory. Each thread was accessing these global vectors each time it needed to run the kernel, which was not at all memory efficient.\r\n",
        "\r\n",
        "I later realised that since many componenets of this algorithm are local to each cell of out grid i.e with each thread we could group all of the steps prior to the streaming part in one kernel and eliminate the need of having global vectors for the aforementioned arrays.\r\n",
        "\r\n",
        "At the end it proved to be optimal to avoid these global GPU memory accesses and stick to dealing with **local thread variables** as much as possible."
      ]
    },
    {
      "cell_type": "code",
      "metadata": {
        "id": "i_QeVgZl-fQE"
      },
      "source": [
        "import math\r\n",
        "@cuda.jit\r\n",
        "def initial_step(t_d, v_d, n_d, rho_d, feq):\r\n",
        "    \r\n",
        "    x = cuda.threadIdx.x\r\n",
        "    y = cuda.blockIdx.x\r\n",
        "    d = cuda.blockDim.x\r\n",
        "    nx, ny = n_d[0], n_d[1]\r\n",
        "    id = y*d + x\r\n",
        "    row = int (id/nx)\r\n",
        "    col = int (id%nx)\r\n",
        "    rho = rho_d\r\n",
        "    if col < nx and row < ny :\r\n",
        "        # initial velocity field\r\n",
        "        u_0 = uLB * (1 + 1e-4*math.sin(y/ly*2*3.14159))\r\n",
        "        u_1 = 0\r\n",
        "        t = t_d\r\n",
        "        v = v_d\r\n",
        "        for i in range(9):\r\n",
        "            cu = 3 * (v[i,0]*u_0 + v[i,1]*u_1)\r\n",
        "            feq[i,col,row] = rho * t[i] * (1 + cu + 0.5*cu**2 - 3/2 * (u_0*u_0 + u_1*u_1))"
      ],
      "execution_count": 63,
      "outputs": []
    },
    {
      "cell_type": "code",
      "metadata": {
        "id": "gokELXIIGeAI"
      },
      "source": [
        "@cuda.jit\r\n",
        "def iteration_cells(t_d, v_d, n_d, fin, fout, u):\r\n",
        "    x = cuda.threadIdx.x\r\n",
        "    y = cuda.blockIdx.x\r\n",
        "    d = cuda.blockDim.x\r\n",
        "    nx, ny = n_d[0], n_d[1]# placing nx and ny in local thread memory to have faster instantaneous access to these two variables since they will heavily be used throughout the various kernel operations\r\n",
        "    id = y*d + x # id of our thread determining whether it's inside our BOLTZMANN grid or not \r\n",
        "    row = int (id/nx)\r\n",
        "    col = int (id%nx)\r\n",
        "    \r\n",
        "\r\n",
        "    if col<nx and row<ny:\r\n",
        "        feq = cuda.local.array(9, dtype=float64) # Since we do not need a global array of feq encompassing all the points of our grid in main memory, \r\n",
        "        #we are better off making feq a local array belonging to each thread individually since it won't be used by other threads neither will it be used in the iteration that follows the current one\r\n",
        "        #Hence feq will only be manipulated locally one iteration at a time by each thread saving us memory access time in the long run and avoiding useless memory allocation on global GPU memory\r\n",
        "\r\n",
        "        t = t_d # vectors t and v are stored as local variables at the start of the kernel for each thread as they will be needed in multiple computations of the Boltzmann Algorithm \r\n",
        "        #Hence by having them in local memory we avoid costly memory access loads\r\n",
        "        v = v_d\r\n",
        "        # Right Wall flow of our grid\r\n",
        "        if col==(nx-1):\r\n",
        "            for i in col3:\r\n",
        "                fin[i,col,row] = fin[i,col-1,row] \r\n",
        "\r\n",
        "        # Calculating the macroscopic variables rho, u_0 and u_1 which are distinct to each cell and thus are local thread variables \r\n",
        "        rho = 0   # Since rho is respective to each cell by itself and is not impacted by neighboring cells in any way, it was chosen to keep this variable local to each thread and not store in global memory, this saved \r\n",
        "        #a lot of memory accsesses in the long run, especially that the rho value will be needed in the following calculations of our kernel\r\n",
        "        u_0 = 0\r\n",
        "        u_1 = 0\r\n",
        "        for i in range(9):\r\n",
        "            rho += fin[i,col,row]    \r\n",
        "            u_0 += v[i,0] * fin[i,col,row]\r\n",
        "            u_1 += v[i,1] * fin[i,col,row]\r\n",
        "        u_0 = u_0/rho\r\n",
        "        u_1 = u_1/rho\r\n",
        "        \r\n",
        "        # inflow conditions left wall fluid coming in\r\n",
        "        if col == 0:\r\n",
        "            rho = 0\r\n",
        "            u_0 = uLB * (1 + 1e-4*math.sin(row/ly*2*3.14159))\r\n",
        "            u_1 = 0\r\n",
        "            for i_1, i_2 in zip(col2, col3):\r\n",
        "                rho += fin[i_1,col,row] + 2*fin[i_2,col,row]\r\n",
        "            rho = rho*(1/(1-u_0))\r\n",
        "        \r\n",
        "        # update fluid propagation\r\n",
        "        u[0,col,row], u[1,col,row] = u_0, u_1\r\n",
        "\r\n",
        "        # Getting each thread's respective feq belonging to one cycle at a time\r\n",
        "        for i in range(9):\r\n",
        "            cu = 3 * (v[i,0]*u_0 + v[i,1]*u_1)\r\n",
        "            usqr = 3/2 * (u_0*u_0 + u_1*u_1)\r\n",
        "            feq[i] = rho * t[i] * (1 + cu + 0.5*cu*cu - usqr)\r\n",
        "\r\n",
        "        if col == 0 :\r\n",
        "            for i in range(3):\r\n",
        "                fin[i,col,row] = feq[i] + fin[8-i,col,row] - feq[8-i]\r\n",
        "        # Computing Fout resulting from the collision step\r\n",
        "        for i in range(9):\r\n",
        "            fout[i,col,row] = fin[i,col,row] - omega * (fin[i,col,row] - feq[i])\r\n",
        "            \r\n",
        "        # Bounce back condition for obstacle cells\r\n",
        "        if ((col-cx)**2+(row-cy)**2)< (r**2):\r\n",
        "            for i in range(9):\r\n",
        "                fout[i,col,row] = fin[8-i,col,row]        \r\n"
      ],
      "execution_count": 64,
      "outputs": []
    },
    {
      "cell_type": "code",
      "metadata": {
        "id": "XGBMqJmm-khk"
      },
      "source": [
        "@cuda.jit\r\n",
        "def stream_step(v_d, n_d, fin, fout):\r\n",
        "    x = cuda.threadIdx.x\r\n",
        "    y = cuda.blockIdx.x\r\n",
        "    d = cuda.blockDim.x\r\n",
        "    nx, ny = n_d[0], n_d[1]\r\n",
        "    id = y*d + x\r\n",
        "    row = int (id/nx)\r\n",
        "    col = int (id%nx)\r\n",
        "    if col < nx and row < ny:\r\n",
        "        v = v_d\r\n",
        "        for i in range(9):\r\n",
        "            fin[i,col,row] = fout[i, (col-v[i,0]) % nx, (row-v[i,1]) % ny]"
      ],
      "execution_count": 65,
      "outputs": []
    },
    {
      "cell_type": "code",
      "metadata": {
        "id": "ActGkWAi4JZs"
      },
      "source": [
        "def main_gpu(maxIter):\r\n",
        "\r\n",
        "    threads_per_block = 512 # chose to go with 1D Blocks to ensure coalesence as our threads in the block will be accessing memory column-wise, hence warps will be accessing 32 variables from gpu global memory at a time ensuring optimal alignment \r\n",
        "    blocks_per_grid = int((nx*ny)/threads_per_block) + 1 # this way we flattened our grid and gave each of our threads one cell of the boltzmann system to deal with\r\n",
        "    fin     = cuda.device_array((9,nx,ny))\r\n",
        "    fout    = cuda.device_array((9,nx,ny))\r\n",
        "    u       = cuda.device_array((2,nx,ny))\r\n",
        "    import math\r\n",
        "    initial_step[blocks_per_grid, threads_per_block](t_d, v_d, n_d, 1, fin)\r\n",
        "\r\n",
        "\r\n",
        "    for time in range(maxIter):\r\n",
        "        # Cells one-iteration\r\n",
        "        iteration_cells[blocks_per_grid, threads_per_block](t_d, v_d, n_d, fin, fout, u)\r\n",
        "        #For synchronization purposes stream step needed to be put in a separate kernel so that each thread can have contiguous acces to its updated neighboring cells\r\n",
        "        stream_step[blocks_per_grid, threads_per_block](v_d, n_d, fin, fout)\r\n",
        "\r\n",
        "#Commenting out the plotting process for benchmark purposes as it is not relevant for comparison between CPU and GPU, will uncomment when visualisation of graph is needed\r\n",
        "    # u_cpu = u.copy_to_host()\r\n",
        "    # figure = np.sqrt(u_cpu[0]*u_cpu[0] + u_cpu[1]*u_cpu[1]).transpose()\r\n",
        "    # imshow(figure, cmap=\"Reds\")"
      ],
      "execution_count": 66,
      "outputs": []
    },
    {
      "cell_type": "code",
      "metadata": {
        "colab": {
          "base_uri": "https://localhost:8080/",
          "height": 1000
        },
        "id": "HiRGCE-Ekkf3",
        "outputId": "0a15babd-5c6e-4543-c6d9-e70daafc6ea8"
      },
      "source": [
        "if __name__ == \"__main__\":\r\n",
        "    iter = [100, 250, 500, 750, 1000, 2000, 5000, 10000, 20000]\r\n",
        "    gpu_time = []\r\n",
        "    cpu_time = []\r\n",
        "    speedup_list = []\r\n",
        "    time_gained = []\r\n",
        "    for i in iter:\r\n",
        "        print('\\n******************************************\\n')\r\n",
        "        print('Number of Iterations: {0:.3f}'.format(i))\r\n",
        "        start_time = time.time() # execute only if run as a script\r\n",
        "        main_gpu(i)\r\n",
        "        elapsed_time_gpu = round(time.time() - start_time, 3)\r\n",
        "        gpu_time.append(elapsed_time_gpu)\r\n",
        "        print('Algorithm on GPU Took {0:.3f} SECONDS'.format(elapsed_time_gpu))\r\n",
        "        start_time = time.time()\r\n",
        "        main_cpu(i)\r\n",
        "        elapsed_time_cpu = round(time.time() - start_time, 3)\r\n",
        "        cpu_time.append(elapsed_time_cpu)\r\n",
        "        speedup = round(elapsed_time_cpu/elapsed_time_gpu, 3)\r\n",
        "        speedup_list.append(speedup)\r\n",
        "        timegain = round(elapsed_time_cpu - elapsed_time_gpu, 3)\r\n",
        "        time_gained.append(timegain)\r\n",
        "\r\n",
        "        print('Algorithm on CPU Took {0:.3f} SECONDS'.format(elapsed_time_cpu))\r\n",
        "        print(\"SPEEDUP achieved due to GPU: {0:.3f} %\".format(speedup*100))\r\n",
        "    Time_DIFF = pd.DataFrame({'Number_of_Iterations': iter, 'GPU_TIME': gpu_time,'CPU_TIME(s)': cpu_time,'Time_Gained(s)': time_gained, 'SPEEDUP':speedup_list})\r\n",
        "    print('\\n******************************************\\n')\r\n",
        "    print(Time_DIFF)\r\n",
        "    Time_DIFF\r\n",
        "    benchmark = pd.DataFrame({'Speedup': speedup_list,'Number_of_Iterations': iter})\r\n",
        "    fig = px.line(benchmark, x = 'Number_of_Iterations', y = 'Speedup', title = 'Boltzmann Benchmark GPU')\r\n",
        "    fig.show()\r\n"
      ],
      "execution_count": null,
      "outputs": [
        {
          "output_type": "stream",
          "text": [
            "\n",
            "******************************************\n",
            "\n",
            "Number of Iterations: 100.000\n",
            "Algorithm on GPU Took 0.217 SECONDS\n",
            "Algorithm on CPU Took 1.981 SECONDS\n",
            "SPEEDUP achieved due to GPU: 912.900 %\n",
            "\n",
            "******************************************\n",
            "\n",
            "Number of Iterations: 250.000\n",
            "Algorithm on GPU Took 0.174 SECONDS\n",
            "Algorithm on CPU Took 5.006 SECONDS\n",
            "SPEEDUP achieved due to GPU: 2877.000 %\n",
            "\n",
            "******************************************\n",
            "\n",
            "Number of Iterations: 500.000\n",
            "Algorithm on GPU Took 0.310 SECONDS\n",
            "Algorithm on CPU Took 10.194 SECONDS\n",
            "SPEEDUP achieved due to GPU: 3288.400 %\n",
            "\n",
            "******************************************\n",
            "\n",
            "Number of Iterations: 750.000\n",
            "Algorithm on GPU Took 0.401 SECONDS\n",
            "Algorithm on CPU Took 15.094 SECONDS\n",
            "SPEEDUP achieved due to GPU: 3764.100 %\n",
            "\n",
            "******************************************\n",
            "\n",
            "Number of Iterations: 1000.000\n",
            "Algorithm on GPU Took 0.515 SECONDS\n",
            "Algorithm on CPU Took 19.972 SECONDS\n",
            "SPEEDUP achieved due to GPU: 3878.100 %\n",
            "\n",
            "******************************************\n",
            "\n",
            "Number of Iterations: 2000.000\n",
            "Algorithm on GPU Took 0.967 SECONDS\n",
            "Algorithm on CPU Took 40.200 SECONDS\n",
            "SPEEDUP achieved due to GPU: 4157.200 %\n",
            "\n",
            "******************************************\n",
            "\n",
            "Number of Iterations: 5000.000\n",
            "Algorithm on GPU Took 2.294 SECONDS\n",
            "Algorithm on CPU Took 99.250 SECONDS\n",
            "SPEEDUP achieved due to GPU: 4326.500 %\n",
            "\n",
            "******************************************\n",
            "\n",
            "Number of Iterations: 10000.000\n",
            "Algorithm on GPU Took 4.672 SECONDS\n",
            "Algorithm on CPU Took 192.578 SECONDS\n",
            "SPEEDUP achieved due to GPU: 4122.000 %\n",
            "\n",
            "******************************************\n",
            "\n",
            "Number of Iterations: 20000.000\n",
            "Algorithm on GPU Took 9.499 SECONDS\n",
            "Algorithm on CPU Took 373.094 SECONDS\n",
            "SPEEDUP achieved due to GPU: 3927.700 %\n",
            "\n",
            "******************************************\n",
            "\n",
            "   Number_of_Iterations  GPU_TIME  CPU_TIME(s)  Time_Gained(s)  SPEEDUP\n",
            "0                   100     0.217        1.981           1.764    9.129\n",
            "1                   250     0.174        5.006           4.832   28.770\n",
            "2                   500     0.310       10.194           9.884   32.884\n",
            "3                   750     0.401       15.094          14.693   37.641\n",
            "4                  1000     0.515       19.972          19.457   38.781\n",
            "5                  2000     0.967       40.200          39.233   41.572\n",
            "6                  5000     2.294       99.250          96.956   43.265\n",
            "7                 10000     4.672      192.578         187.906   41.220\n",
            "8                 20000     9.499      373.094         363.595   39.277\n"
          ],
          "name": "stdout"
        },
        {
          "output_type": "display_data",
          "data": {
            "text/html": [
              "<html>\n",
              "<head><meta charset=\"utf-8\" /></head>\n",
              "<body>\n",
              "    <div>\n",
              "            <script src=\"https://cdnjs.cloudflare.com/ajax/libs/mathjax/2.7.5/MathJax.js?config=TeX-AMS-MML_SVG\"></script><script type=\"text/javascript\">if (window.MathJax) {MathJax.Hub.Config({SVG: {font: \"STIX-Web\"}});}</script>\n",
              "                <script type=\"text/javascript\">window.PlotlyConfig = {MathJaxConfig: 'local'};</script>\n",
              "        <script src=\"https://cdn.plot.ly/plotly-latest.min.js\"></script>    \n",
              "            <div id=\"b5571284-fb1e-4c24-9f55-7adf31373c70\" class=\"plotly-graph-div\" style=\"height:525px; width:100%;\"></div>\n",
              "            <script type=\"text/javascript\">\n",
              "                \n",
              "                    window.PLOTLYENV=window.PLOTLYENV || {};\n",
              "                    \n",
              "                if (document.getElementById(\"b5571284-fb1e-4c24-9f55-7adf31373c70\")) {\n",
              "                    Plotly.newPlot(\n",
              "                        'b5571284-fb1e-4c24-9f55-7adf31373c70',\n",
              "                        [{\"hoverlabel\": {\"namelength\": 0}, \"hovertemplate\": \"Number_of_Iterations=%{x}<br>Speedup=%{y}\", \"legendgroup\": \"\", \"line\": {\"color\": \"#636efa\", \"dash\": \"solid\"}, \"mode\": \"lines\", \"name\": \"\", \"showlegend\": false, \"type\": \"scatter\", \"x\": [100, 250, 500, 750, 1000, 2000, 5000, 10000, 20000], \"xaxis\": \"x\", \"y\": [9.129, 28.77, 32.884, 37.641, 38.781, 41.572, 43.265, 41.22, 39.277], \"yaxis\": \"y\"}],\n",
              "                        {\"legend\": {\"tracegroupgap\": 0}, \"template\": {\"data\": {\"bar\": [{\"error_x\": {\"color\": \"#2a3f5f\"}, \"error_y\": {\"color\": \"#2a3f5f\"}, \"marker\": {\"line\": {\"color\": \"#E5ECF6\", \"width\": 0.5}}, \"type\": \"bar\"}], \"barpolar\": [{\"marker\": {\"line\": {\"color\": \"#E5ECF6\", \"width\": 0.5}}, \"type\": \"barpolar\"}], \"carpet\": [{\"aaxis\": {\"endlinecolor\": \"#2a3f5f\", \"gridcolor\": \"white\", \"linecolor\": \"white\", \"minorgridcolor\": \"white\", \"startlinecolor\": \"#2a3f5f\"}, \"baxis\": {\"endlinecolor\": \"#2a3f5f\", \"gridcolor\": \"white\", \"linecolor\": \"white\", \"minorgridcolor\": \"white\", \"startlinecolor\": \"#2a3f5f\"}, \"type\": \"carpet\"}], \"choropleth\": [{\"colorbar\": {\"outlinewidth\": 0, \"ticks\": \"\"}, \"type\": \"choropleth\"}], \"contour\": [{\"colorbar\": {\"outlinewidth\": 0, \"ticks\": \"\"}, \"colorscale\": [[0.0, \"#0d0887\"], [0.1111111111111111, \"#46039f\"], [0.2222222222222222, \"#7201a8\"], [0.3333333333333333, \"#9c179e\"], [0.4444444444444444, \"#bd3786\"], [0.5555555555555556, \"#d8576b\"], [0.6666666666666666, \"#ed7953\"], [0.7777777777777778, \"#fb9f3a\"], [0.8888888888888888, \"#fdca26\"], [1.0, \"#f0f921\"]], \"type\": \"contour\"}], \"contourcarpet\": [{\"colorbar\": {\"outlinewidth\": 0, \"ticks\": \"\"}, \"type\": \"contourcarpet\"}], \"heatmap\": [{\"colorbar\": {\"outlinewidth\": 0, \"ticks\": \"\"}, \"colorscale\": [[0.0, \"#0d0887\"], [0.1111111111111111, \"#46039f\"], [0.2222222222222222, \"#7201a8\"], [0.3333333333333333, \"#9c179e\"], [0.4444444444444444, \"#bd3786\"], [0.5555555555555556, \"#d8576b\"], [0.6666666666666666, \"#ed7953\"], [0.7777777777777778, \"#fb9f3a\"], [0.8888888888888888, \"#fdca26\"], [1.0, \"#f0f921\"]], \"type\": \"heatmap\"}], \"heatmapgl\": [{\"colorbar\": {\"outlinewidth\": 0, \"ticks\": \"\"}, \"colorscale\": [[0.0, \"#0d0887\"], [0.1111111111111111, \"#46039f\"], [0.2222222222222222, \"#7201a8\"], [0.3333333333333333, \"#9c179e\"], [0.4444444444444444, \"#bd3786\"], [0.5555555555555556, \"#d8576b\"], [0.6666666666666666, \"#ed7953\"], [0.7777777777777778, \"#fb9f3a\"], [0.8888888888888888, \"#fdca26\"], [1.0, \"#f0f921\"]], \"type\": \"heatmapgl\"}], \"histogram\": [{\"marker\": {\"colorbar\": {\"outlinewidth\": 0, \"ticks\": \"\"}}, \"type\": \"histogram\"}], \"histogram2d\": [{\"colorbar\": {\"outlinewidth\": 0, \"ticks\": \"\"}, \"colorscale\": [[0.0, \"#0d0887\"], [0.1111111111111111, \"#46039f\"], [0.2222222222222222, \"#7201a8\"], [0.3333333333333333, \"#9c179e\"], [0.4444444444444444, \"#bd3786\"], [0.5555555555555556, \"#d8576b\"], [0.6666666666666666, \"#ed7953\"], [0.7777777777777778, \"#fb9f3a\"], [0.8888888888888888, \"#fdca26\"], [1.0, \"#f0f921\"]], \"type\": \"histogram2d\"}], \"histogram2dcontour\": [{\"colorbar\": {\"outlinewidth\": 0, \"ticks\": \"\"}, \"colorscale\": [[0.0, \"#0d0887\"], [0.1111111111111111, \"#46039f\"], [0.2222222222222222, \"#7201a8\"], [0.3333333333333333, \"#9c179e\"], [0.4444444444444444, \"#bd3786\"], [0.5555555555555556, \"#d8576b\"], [0.6666666666666666, \"#ed7953\"], [0.7777777777777778, \"#fb9f3a\"], [0.8888888888888888, \"#fdca26\"], [1.0, \"#f0f921\"]], \"type\": \"histogram2dcontour\"}], \"mesh3d\": [{\"colorbar\": {\"outlinewidth\": 0, \"ticks\": \"\"}, \"type\": \"mesh3d\"}], \"parcoords\": [{\"line\": {\"colorbar\": {\"outlinewidth\": 0, \"ticks\": \"\"}}, \"type\": \"parcoords\"}], \"pie\": [{\"automargin\": true, \"type\": \"pie\"}], \"scatter\": [{\"marker\": {\"colorbar\": {\"outlinewidth\": 0, \"ticks\": \"\"}}, \"type\": \"scatter\"}], \"scatter3d\": [{\"line\": {\"colorbar\": {\"outlinewidth\": 0, \"ticks\": \"\"}}, \"marker\": {\"colorbar\": {\"outlinewidth\": 0, \"ticks\": \"\"}}, \"type\": \"scatter3d\"}], \"scattercarpet\": [{\"marker\": {\"colorbar\": {\"outlinewidth\": 0, \"ticks\": \"\"}}, \"type\": \"scattercarpet\"}], \"scattergeo\": [{\"marker\": {\"colorbar\": {\"outlinewidth\": 0, \"ticks\": \"\"}}, \"type\": \"scattergeo\"}], \"scattergl\": [{\"marker\": {\"colorbar\": {\"outlinewidth\": 0, \"ticks\": \"\"}}, \"type\": \"scattergl\"}], \"scattermapbox\": [{\"marker\": {\"colorbar\": {\"outlinewidth\": 0, \"ticks\": \"\"}}, \"type\": \"scattermapbox\"}], \"scatterpolar\": [{\"marker\": {\"colorbar\": {\"outlinewidth\": 0, \"ticks\": \"\"}}, \"type\": \"scatterpolar\"}], \"scatterpolargl\": [{\"marker\": {\"colorbar\": {\"outlinewidth\": 0, \"ticks\": \"\"}}, \"type\": \"scatterpolargl\"}], \"scatterternary\": [{\"marker\": {\"colorbar\": {\"outlinewidth\": 0, \"ticks\": \"\"}}, \"type\": \"scatterternary\"}], \"surface\": [{\"colorbar\": {\"outlinewidth\": 0, \"ticks\": \"\"}, \"colorscale\": [[0.0, \"#0d0887\"], [0.1111111111111111, \"#46039f\"], [0.2222222222222222, \"#7201a8\"], [0.3333333333333333, \"#9c179e\"], [0.4444444444444444, \"#bd3786\"], [0.5555555555555556, \"#d8576b\"], [0.6666666666666666, \"#ed7953\"], [0.7777777777777778, \"#fb9f3a\"], [0.8888888888888888, \"#fdca26\"], [1.0, \"#f0f921\"]], \"type\": \"surface\"}], \"table\": [{\"cells\": {\"fill\": {\"color\": \"#EBF0F8\"}, \"line\": {\"color\": \"white\"}}, \"header\": {\"fill\": {\"color\": \"#C8D4E3\"}, \"line\": {\"color\": \"white\"}}, \"type\": \"table\"}]}, \"layout\": {\"annotationdefaults\": {\"arrowcolor\": \"#2a3f5f\", \"arrowhead\": 0, \"arrowwidth\": 1}, \"coloraxis\": {\"colorbar\": {\"outlinewidth\": 0, \"ticks\": \"\"}}, \"colorscale\": {\"diverging\": [[0, \"#8e0152\"], [0.1, \"#c51b7d\"], [0.2, \"#de77ae\"], [0.3, \"#f1b6da\"], [0.4, \"#fde0ef\"], [0.5, \"#f7f7f7\"], [0.6, \"#e6f5d0\"], [0.7, \"#b8e186\"], [0.8, \"#7fbc41\"], [0.9, \"#4d9221\"], [1, \"#276419\"]], \"sequential\": [[0.0, \"#0d0887\"], [0.1111111111111111, \"#46039f\"], [0.2222222222222222, \"#7201a8\"], [0.3333333333333333, \"#9c179e\"], [0.4444444444444444, \"#bd3786\"], [0.5555555555555556, \"#d8576b\"], [0.6666666666666666, \"#ed7953\"], [0.7777777777777778, \"#fb9f3a\"], [0.8888888888888888, \"#fdca26\"], [1.0, \"#f0f921\"]], \"sequentialminus\": [[0.0, \"#0d0887\"], [0.1111111111111111, \"#46039f\"], [0.2222222222222222, \"#7201a8\"], [0.3333333333333333, \"#9c179e\"], [0.4444444444444444, \"#bd3786\"], [0.5555555555555556, \"#d8576b\"], [0.6666666666666666, \"#ed7953\"], [0.7777777777777778, \"#fb9f3a\"], [0.8888888888888888, \"#fdca26\"], [1.0, \"#f0f921\"]]}, \"colorway\": [\"#636efa\", \"#EF553B\", \"#00cc96\", \"#ab63fa\", \"#FFA15A\", \"#19d3f3\", \"#FF6692\", \"#B6E880\", \"#FF97FF\", \"#FECB52\"], \"font\": {\"color\": \"#2a3f5f\"}, \"geo\": {\"bgcolor\": \"white\", \"lakecolor\": \"white\", \"landcolor\": \"#E5ECF6\", \"showlakes\": true, \"showland\": true, \"subunitcolor\": \"white\"}, \"hoverlabel\": {\"align\": \"left\"}, \"hovermode\": \"closest\", \"mapbox\": {\"style\": \"light\"}, \"paper_bgcolor\": \"white\", \"plot_bgcolor\": \"#E5ECF6\", \"polar\": {\"angularaxis\": {\"gridcolor\": \"white\", \"linecolor\": \"white\", \"ticks\": \"\"}, \"bgcolor\": \"#E5ECF6\", \"radialaxis\": {\"gridcolor\": \"white\", \"linecolor\": \"white\", \"ticks\": \"\"}}, \"scene\": {\"xaxis\": {\"backgroundcolor\": \"#E5ECF6\", \"gridcolor\": \"white\", \"gridwidth\": 2, \"linecolor\": \"white\", \"showbackground\": true, \"ticks\": \"\", \"zerolinecolor\": \"white\"}, \"yaxis\": {\"backgroundcolor\": \"#E5ECF6\", \"gridcolor\": \"white\", \"gridwidth\": 2, \"linecolor\": \"white\", \"showbackground\": true, \"ticks\": \"\", \"zerolinecolor\": \"white\"}, \"zaxis\": {\"backgroundcolor\": \"#E5ECF6\", \"gridcolor\": \"white\", \"gridwidth\": 2, \"linecolor\": \"white\", \"showbackground\": true, \"ticks\": \"\", \"zerolinecolor\": \"white\"}}, \"shapedefaults\": {\"line\": {\"color\": \"#2a3f5f\"}}, \"ternary\": {\"aaxis\": {\"gridcolor\": \"white\", \"linecolor\": \"white\", \"ticks\": \"\"}, \"baxis\": {\"gridcolor\": \"white\", \"linecolor\": \"white\", \"ticks\": \"\"}, \"bgcolor\": \"#E5ECF6\", \"caxis\": {\"gridcolor\": \"white\", \"linecolor\": \"white\", \"ticks\": \"\"}}, \"title\": {\"x\": 0.05}, \"xaxis\": {\"automargin\": true, \"gridcolor\": \"white\", \"linecolor\": \"white\", \"ticks\": \"\", \"title\": {\"standoff\": 15}, \"zerolinecolor\": \"white\", \"zerolinewidth\": 2}, \"yaxis\": {\"automargin\": true, \"gridcolor\": \"white\", \"linecolor\": \"white\", \"ticks\": \"\", \"title\": {\"standoff\": 15}, \"zerolinecolor\": \"white\", \"zerolinewidth\": 2}}}, \"title\": {\"text\": \"Boltzmann Benchmark GPU\"}, \"xaxis\": {\"anchor\": \"y\", \"domain\": [0.0, 1.0], \"title\": {\"text\": \"Number_of_Iterations\"}}, \"yaxis\": {\"anchor\": \"x\", \"domain\": [0.0, 1.0], \"title\": {\"text\": \"Speedup\"}}},\n",
              "                        {\"responsive\": true}\n",
              "                    ).then(function(){\n",
              "                            \n",
              "var gd = document.getElementById('b5571284-fb1e-4c24-9f55-7adf31373c70');\n",
              "var x = new MutationObserver(function (mutations, observer) {{\n",
              "        var display = window.getComputedStyle(gd).display;\n",
              "        if (!display || display === 'none') {{\n",
              "            console.log([gd, 'removed!']);\n",
              "            Plotly.purge(gd);\n",
              "            observer.disconnect();\n",
              "        }}\n",
              "}});\n",
              "\n",
              "// Listen for the removal of the full notebook cells\n",
              "var notebookContainer = gd.closest('#notebook-container');\n",
              "if (notebookContainer) {{\n",
              "    x.observe(notebookContainer, {childList: true});\n",
              "}}\n",
              "\n",
              "// Listen for the clearing of the current output cell\n",
              "var outputEl = gd.closest('.output');\n",
              "if (outputEl) {{\n",
              "    x.observe(outputEl, {childList: true});\n",
              "}}\n",
              "\n",
              "                        })\n",
              "                };\n",
              "                \n",
              "            </script>\n",
              "        </div>\n",
              "</body>\n",
              "</html>"
            ]
          },
          "metadata": {
            "tags": []
          }
        },
        {
          "output_type": "display_data",
          "data": {
            "image/png": "[encoded data removed]",
            "text/plain": [
              "<Figure size 432x288 with 1 Axes>"
            ]
          },
          "metadata": {
            "tags": [],
            "needs_background": "light"
          }
        }
      ]
    },
    {
      "cell_type": "markdown",
      "metadata": {
        "id": "HA3Qj1zYSaFv"
      },
      "source": [
        "As we can see starting out with few number of iterations, due to the just in time compilation of numba, the gpu version isn't reaching its expected potential speedup as compared to the sequential CPU version \r\n",
        "\r\n",
        "As the number of iterations performed increases we can notice that the speedup increases accordingly until it hits a plateau at around 1000 iterations.\r\n",
        "What is noticeable however is the time saved due to the GPU especially for longer cycles.\r\n",
        "\r\n",
        "This could dramatically help in accelerating simulations of Boltzmann Computational Fluid dynamics needs in experimental laboratory scenarios."
      ]
    },
    {
      "cell_type": "code",
      "metadata": {
        "id": "QoSwVY5RACTk",
        "colab": {
          "base_uri": "https://localhost:8080/",
          "height": 332
        },
        "outputId": "2c447c4f-9368-40c3-f015-1dce42449ee7"
      },
      "source": [
        "Time_DIFF"
      ],
      "execution_count": null,
      "outputs": [
        {
          "output_type": "execute_result",
          "data": {
            "text/html": [
              "<div>\n",
              "<style scoped>\n",
              "    .dataframe tbody tr th:only-of-type {\n",
              "        vertical-align: middle;\n",
              "    }\n",
              "\n",
              "    .dataframe tbody tr th {\n",
              "        vertical-align: top;\n",
              "    }\n",
              "\n",
              "    .dataframe thead th {\n",
              "        text-align: right;\n",
              "    }\n",
              "</style>\n",
              "<table border=\"1\" class=\"dataframe\">\n",
              "  <thead>\n",
              "    <tr style=\"text-align: right;\">\n",
              "      <th></th>\n",
              "      <th>Number_of_Iterations</th>\n",
              "      <th>GPU_TIME</th>\n",
              "      <th>CPU_TIME(s)</th>\n",
              "      <th>Time_Gained(s)</th>\n",
              "      <th>SPEEDUP</th>\n",
              "    </tr>\n",
              "  </thead>\n",
              "  <tbody>\n",
              "    <tr>\n",
              "      <th>0</th>\n",
              "      <td>100</td>\n",
              "      <td>1.289</td>\n",
              "      <td>2.132</td>\n",
              "      <td>0.843</td>\n",
              "      <td>1.654</td>\n",
              "    </tr>\n",
              "    <tr>\n",
              "      <th>1</th>\n",
              "      <td>250</td>\n",
              "      <td>0.088</td>\n",
              "      <td>5.282</td>\n",
              "      <td>5.194</td>\n",
              "      <td>60.023</td>\n",
              "    </tr>\n",
              "    <tr>\n",
              "      <th>2</th>\n",
              "      <td>500</td>\n",
              "      <td>0.299</td>\n",
              "      <td>10.629</td>\n",
              "      <td>10.330</td>\n",
              "      <td>35.548</td>\n",
              "    </tr>\n",
              "    <tr>\n",
              "      <th>3</th>\n",
              "      <td>750</td>\n",
              "      <td>0.239</td>\n",
              "      <td>15.658</td>\n",
              "      <td>15.419</td>\n",
              "      <td>65.515</td>\n",
              "    </tr>\n",
              "    <tr>\n",
              "      <th>4</th>\n",
              "      <td>1000</td>\n",
              "      <td>0.327</td>\n",
              "      <td>20.146</td>\n",
              "      <td>19.819</td>\n",
              "      <td>61.609</td>\n",
              "    </tr>\n",
              "    <tr>\n",
              "      <th>5</th>\n",
              "      <td>2000</td>\n",
              "      <td>1.073</td>\n",
              "      <td>40.684</td>\n",
              "      <td>39.611</td>\n",
              "      <td>37.916</td>\n",
              "    </tr>\n",
              "    <tr>\n",
              "      <th>6</th>\n",
              "      <td>5000</td>\n",
              "      <td>2.275</td>\n",
              "      <td>102.735</td>\n",
              "      <td>100.460</td>\n",
              "      <td>45.158</td>\n",
              "    </tr>\n",
              "    <tr>\n",
              "      <th>7</th>\n",
              "      <td>10000</td>\n",
              "      <td>4.770</td>\n",
              "      <td>201.453</td>\n",
              "      <td>196.683</td>\n",
              "      <td>42.233</td>\n",
              "    </tr>\n",
              "    <tr>\n",
              "      <th>8</th>\n",
              "      <td>20000</td>\n",
              "      <td>9.777</td>\n",
              "      <td>395.224</td>\n",
              "      <td>385.447</td>\n",
              "      <td>40.424</td>\n",
              "    </tr>\n",
              "  </tbody>\n",
              "</table>\n",
              "</div>"
            ],
            "text/plain": [
              "   Number_of_Iterations  GPU_TIME  CPU_TIME(s)  Time_Gained(s)  SPEEDUP\n",
              "0                   100     1.289        2.132           0.843    1.654\n",
              "1                   250     0.088        5.282           5.194   60.023\n",
              "2                   500     0.299       10.629          10.330   35.548\n",
              "3                   750     0.239       15.658          15.419   65.515\n",
              "4                  1000     0.327       20.146          19.819   61.609\n",
              "5                  2000     1.073       40.684          39.611   37.916\n",
              "6                  5000     2.275      102.735         100.460   45.158\n",
              "7                 10000     4.770      201.453         196.683   42.233\n",
              "8                 20000     9.777      395.224         385.447   40.424"
            ]
          },
          "metadata": {
            "tags": []
          },
          "execution_count": 55
        }
      ]
    },
    {
      "cell_type": "code",
      "metadata": {
        "colab": {
          "base_uri": "https://localhost:8080/"
        },
        "id": "2AKVM3q9gQBF",
        "outputId": "4493b8ce-6c69-42d7-f4f6-e01f44fb77bc"
      },
      "source": [
        "start_time = time.time() # execute only if run as a script\r\n",
        "main_gpu(200000)\r\n",
        "elapsed_time_gpu = time.time() - start_time\r\n",
        "print('Algorithm on the GPU Took {0:.3f} SECONDS'.format(elapsed_time_gpu))\r\n",
        "Time_saved = 5359.781 - elapsed_time_gpu\r\n",
        "print('The time that was ultimately saved thanks to the GPU is {0:.3f} SECONDS'.format(Time_saved))"
      ],
      "execution_count": null,
      "outputs": [
        {
          "output_type": "stream",
          "text": [
            "Algorithm on the GPU Took 102.627 SECONDS\n",
            "The time that was ultimately saved thanks to the GPU is 5257.154 SECONDS\n"
          ],
          "name": "stdout"
        }
      ]
    },
    {
      "cell_type": "markdown",
      "metadata": {
        "id": "moNpPz0lNtUk"
      },
      "source": [
        "#  Conclusion\r\n",
        "\r\n",
        "Gpu programmming can be very benificial in circumstances where calculations are defined in a ***local hierarchy*** and an **embarrasingly parallel** manner i.e where there is little or no dependency or need for communication between parallel tasks, or for results between them.\r\n",
        "\r\n",
        "For these specific reasons, we were able to witness speedups of up to ***43x*** with the paralellisation of the Lattice-Boltzmann algorithm.\r\n",
        "\r\n",
        "The only major obstacle we faced which hindered our full potential performance was the need of threads communicating with neighboring cells in order to receive their exiting vector values(fout) during the streaming step of the algorithm.\r\n",
        "\r\n",
        "Nevertheless, with time savings of more than ***1.5 hours*** for 200,000 iterations we can definitely say tht paralellising this code was worthwhile and the GPU requirements needed to perform such paralellisation proved to be advantageous.\r\n",
        "\r\n",
        "It is safe to say that it would be potentially even more rewarding with a larger sized grid (> 420x180)."
      ]
    },
    {
      "cell_type": "markdown",
      "metadata": {
        "id": "JmZtz0hZESe2"
      },
      "source": [
        "# Experimental trials to reach more speedup (tatonnement)\r\n",
        "\r\n",
        "Trial when i removed n_d, v_d and t_d as arguments which were taken by the three kernels. The access of these variables was thus from host global memory (n, v, t) and they were not assigned to local thread memory as was previously done.\r\n",
        "\r\n",
        "Contrary to what i expected i got a bump-up in speed(with some suspicious spikes at the beginning), even though from what i imagined it should have been slower due to tedious memory access from host global memory.\r\n",
        "\r\n",
        "Is is because i was allocating too many arrays on local thread memory ?\r\n",
        "\r\n",
        "\r\n",
        "Not sure how to explain this, would appreciate feedback on this particular subject. Thank you Dr."
      ]
    },
    {
      "cell_type": "code",
      "metadata": {
        "id": "OhSfYqijF0yg"
      },
      "source": [
        "def main_gpu(maxIter):\r\n",
        "\r\n",
        "    threads_per_block = 512 # chose to go with 1D Blocks to ensure coalesence as our threads in the block will be accessing memory column-wise, hence warps will be accessing 32 variables from gpu global memory at a time ensuring optimal alignment \r\n",
        "    blocks_per_grid = int((nx*ny)/threads_per_block) + 1 # this way we flattened our grid and gave each of our threads one cell of the boltzmann system to deal with\r\n",
        "    fin     = cuda.device_array((9,nx,ny))\r\n",
        "    fout    = cuda.device_array((9,nx,ny))\r\n",
        "    u       = cuda.device_array((2,nx,ny))\r\n",
        "    import math\r\n",
        "    initial_step[blocks_per_grid, threads_per_block](1, fin)\r\n",
        "\r\n",
        "\r\n",
        "    for time in range(maxIter):\r\n",
        "        # Cells one-iteration\r\n",
        "        iteration_cells[blocks_per_grid, threads_per_block](fin, fout, u)\r\n",
        "        #For synchronization purposes stream step needed to be put in a separate kernel so that each thread can have contiguous acces to its updated neighboring cells\r\n",
        "        stream_step[blocks_per_grid, threads_per_block](fin, fout)\r\n",
        "\r\n",
        "    # u_cpu = u.copy_to_host()\r\n",
        "    # figure = np.sqrt(u_cpu[0]*u_cpu[0] + u_cpu[1]*u_cpu[1]).transpose()\r\n",
        "    # imshow(figure, cmap=\"Reds\")"
      ],
      "execution_count": null,
      "outputs": []
    },
    {
      "cell_type": "code",
      "metadata": {
        "colab": {
          "base_uri": "https://localhost:8080/",
          "height": 1000
        },
        "id": "ZsOUvgkr5Wss",
        "outputId": "302b7e8e-6852-4d7a-80a9-3cad2d52e39d"
      },
      "source": [
        "if __name__ == \"__main__\":\r\n",
        "    iter = [100, 250, 500, 750, 1000, 2000, 5000, 10000, 20000]\r\n",
        "    gpu_time = []\r\n",
        "    cpu_time = []\r\n",
        "    speedup_list = []\r\n",
        "    time_gained = []\r\n",
        "    for i in iter:\r\n",
        "        print('\\n******************************************\\n')\r\n",
        "        print('Number of Iterations: {0:.3f}'.format(i))\r\n",
        "        start_time = time.time() # execute only if run as a script\r\n",
        "        main_gpu(i)\r\n",
        "        elapsed_time_gpu = round(time.time() - start_time, 3)\r\n",
        "        gpu_time.append(elapsed_time_gpu)\r\n",
        "        print('Algorithm on GPU Took {0:.3f} SECONDS'.format(elapsed_time_gpu))\r\n",
        "        start_time = time.time()\r\n",
        "        main_cpu(i)\r\n",
        "        elapsed_time_cpu = round(time.time() - start_time, 3)\r\n",
        "        cpu_time.append(elapsed_time_cpu)\r\n",
        "        speedup = round(elapsed_time_cpu/elapsed_time_gpu, 3)\r\n",
        "        speedup_list.append(speedup)\r\n",
        "        timegain = round(elapsed_time_cpu - elapsed_time_gpu, 3)\r\n",
        "        time_gained.append(timegain)\r\n",
        "\r\n",
        "        print('Algorithm on CPU Took {0:.3f} SECONDS'.format(elapsed_time_cpu))\r\n",
        "        print(\"SPEEDUP achieved due to GPU: {0:.3f} %\".format(speedup*100))\r\n",
        "    Time_DIFF = pd.DataFrame({'Number_of_Iterations': iter, 'GPU_TIME': gpu_time,'CPU_TIME(s)': cpu_time,'Time_Gained(s)': time_gained, 'SPEEDUP':speedup_list})\r\n",
        "    print('\\n******************************************\\n')\r\n",
        "    print(Time_DIFF)\r\n",
        "    Time_DIFF\r\n",
        "    benchmark = pd.DataFrame({'Speedup': speedup_list,'Number_of_Iterations': iter})\r\n",
        "    fig = px.line(benchmark, x = 'Number_of_Iterations', y = 'Speedup', title = 'Boltzmann Benchmark GPU')\r\n",
        "    fig.show()"
      ],
      "execution_count": null,
      "outputs": [
        {
          "output_type": "stream",
          "text": [
            "\n",
            "******************************************\n",
            "\n",
            "Number of Iterations: 100.000\n",
            "Algorithm on GPU Took 1.289 SECONDS\n",
            "Algorithm on CPU Took 2.132 SECONDS\n",
            "SPEEDUP achieved due to GPU: 165.400 %\n",
            "\n",
            "******************************************\n",
            "\n",
            "Number of Iterations: 250.000\n",
            "Algorithm on GPU Took 0.088 SECONDS\n",
            "Algorithm on CPU Took 5.282 SECONDS\n",
            "SPEEDUP achieved due to GPU: 6002.300 %\n",
            "\n",
            "******************************************\n",
            "\n",
            "Number of Iterations: 500.000\n",
            "Algorithm on GPU Took 0.299 SECONDS\n",
            "Algorithm on CPU Took 10.629 SECONDS\n",
            "SPEEDUP achieved due to GPU: 3554.800 %\n",
            "\n",
            "******************************************\n",
            "\n",
            "Number of Iterations: 750.000\n",
            "Algorithm on GPU Took 0.239 SECONDS\n",
            "Algorithm on CPU Took 15.658 SECONDS\n",
            "SPEEDUP achieved due to GPU: 6551.500 %\n",
            "\n",
            "******************************************\n",
            "\n",
            "Number of Iterations: 1000.000\n",
            "Algorithm on GPU Took 0.327 SECONDS\n",
            "Algorithm on CPU Took 20.146 SECONDS\n",
            "SPEEDUP achieved due to GPU: 6160.900 %\n",
            "\n",
            "******************************************\n",
            "\n",
            "Number of Iterations: 2000.000\n",
            "Algorithm on GPU Took 1.073 SECONDS\n",
            "Algorithm on CPU Took 40.684 SECONDS\n",
            "SPEEDUP achieved due to GPU: 3791.600 %\n",
            "\n",
            "******************************************\n",
            "\n",
            "Number of Iterations: 5000.000\n",
            "Algorithm on GPU Took 2.275 SECONDS\n",
            "Algorithm on CPU Took 102.735 SECONDS\n",
            "SPEEDUP achieved due to GPU: 4515.800 %\n",
            "\n",
            "******************************************\n",
            "\n",
            "Number of Iterations: 10000.000\n",
            "Algorithm on GPU Took 4.770 SECONDS\n",
            "Algorithm on CPU Took 201.453 SECONDS\n",
            "SPEEDUP achieved due to GPU: 4223.300 %\n",
            "\n",
            "******************************************\n",
            "\n",
            "Number of Iterations: 20000.000\n",
            "Algorithm on GPU Took 9.777 SECONDS\n",
            "Algorithm on CPU Took 395.224 SECONDS\n",
            "SPEEDUP achieved due to GPU: 4042.400 %\n",
            "\n",
            "******************************************\n",
            "\n",
            "   Number_of_Iterations  GPU_TIME  CPU_TIME(s)  Time_Gained(s)  SPEEDUP\n",
            "0                   100     1.289        2.132           0.843    1.654\n",
            "1                   250     0.088        5.282           5.194   60.023\n",
            "2                   500     0.299       10.629          10.330   35.548\n",
            "3                   750     0.239       15.658          15.419   65.515\n",
            "4                  1000     0.327       20.146          19.819   61.609\n",
            "5                  2000     1.073       40.684          39.611   37.916\n",
            "6                  5000     2.275      102.735         100.460   45.158\n",
            "7                 10000     4.770      201.453         196.683   42.233\n",
            "8                 20000     9.777      395.224         385.447   40.424\n"
          ],
          "name": "stdout"
        },
        {
          "output_type": "display_data",
          "data": {
            "text/html": [
              "<html>\n",
              "<head><meta charset=\"utf-8\" /></head>\n",
              "<body>\n",
              "    <div>\n",
              "            <script src=\"https://cdnjs.cloudflare.com/ajax/libs/mathjax/2.7.5/MathJax.js?config=TeX-AMS-MML_SVG\"></script><script type=\"text/javascript\">if (window.MathJax) {MathJax.Hub.Config({SVG: {font: \"STIX-Web\"}});}</script>\n",
              "                <script type=\"text/javascript\">window.PlotlyConfig = {MathJaxConfig: 'local'};</script>\n",
              "        <script src=\"https://cdn.plot.ly/plotly-latest.min.js\"></script>    \n",
              "            <div id=\"f0919a40-b988-493e-947f-778bca8e0744\" class=\"plotly-graph-div\" style=\"height:525px; width:100%;\"></div>\n",
              "            <script type=\"text/javascript\">\n",
              "                \n",
              "                    window.PLOTLYENV=window.PLOTLYENV || {};\n",
              "                    \n",
              "                if (document.getElementById(\"f0919a40-b988-493e-947f-778bca8e0744\")) {\n",
              "                    Plotly.newPlot(\n",
              "                        'f0919a40-b988-493e-947f-778bca8e0744',\n",
              "                        [{\"hoverlabel\": {\"namelength\": 0}, \"hovertemplate\": \"Number_of_Iterations=%{x}<br>Speedup=%{y}\", \"legendgroup\": \"\", \"line\": {\"color\": \"#636efa\", \"dash\": \"solid\"}, \"mode\": \"lines\", \"name\": \"\", \"showlegend\": false, \"type\": \"scatter\", \"x\": [100, 250, 500, 750, 1000, 2000, 5000, 10000, 20000], \"xaxis\": \"x\", \"y\": [1.654, 60.023, 35.548, 65.515, 61.609, 37.916, 45.158, 42.233, 40.424], \"yaxis\": \"y\"}],\n",
              "                        {\"legend\": {\"tracegroupgap\": 0}, \"template\": {\"data\": {\"bar\": [{\"error_x\": {\"color\": \"#2a3f5f\"}, \"error_y\": {\"color\": \"#2a3f5f\"}, \"marker\": {\"line\": {\"color\": \"#E5ECF6\", \"width\": 0.5}}, \"type\": \"bar\"}], \"barpolar\": [{\"marker\": {\"line\": {\"color\": \"#E5ECF6\", \"width\": 0.5}}, \"type\": \"barpolar\"}], \"carpet\": [{\"aaxis\": {\"endlinecolor\": \"#2a3f5f\", \"gridcolor\": \"white\", \"linecolor\": \"white\", \"minorgridcolor\": \"white\", \"startlinecolor\": \"#2a3f5f\"}, \"baxis\": {\"endlinecolor\": \"#2a3f5f\", \"gridcolor\": \"white\", \"linecolor\": \"white\", \"minorgridcolor\": \"white\", \"startlinecolor\": \"#2a3f5f\"}, \"type\": \"carpet\"}], \"choropleth\": [{\"colorbar\": {\"outlinewidth\": 0, \"ticks\": \"\"}, \"type\": \"choropleth\"}], \"contour\": [{\"colorbar\": {\"outlinewidth\": 0, \"ticks\": \"\"}, \"colorscale\": [[0.0, \"#0d0887\"], [0.1111111111111111, \"#46039f\"], [0.2222222222222222, \"#7201a8\"], [0.3333333333333333, \"#9c179e\"], [0.4444444444444444, \"#bd3786\"], [0.5555555555555556, \"#d8576b\"], [0.6666666666666666, \"#ed7953\"], [0.7777777777777778, \"#fb9f3a\"], [0.8888888888888888, \"#fdca26\"], [1.0, \"#f0f921\"]], \"type\": \"contour\"}], \"contourcarpet\": [{\"colorbar\": {\"outlinewidth\": 0, \"ticks\": \"\"}, \"type\": \"contourcarpet\"}], \"heatmap\": [{\"colorbar\": {\"outlinewidth\": 0, \"ticks\": \"\"}, \"colorscale\": [[0.0, \"#0d0887\"], [0.1111111111111111, \"#46039f\"], [0.2222222222222222, \"#7201a8\"], [0.3333333333333333, \"#9c179e\"], [0.4444444444444444, \"#bd3786\"], [0.5555555555555556, \"#d8576b\"], [0.6666666666666666, \"#ed7953\"], [0.7777777777777778, \"#fb9f3a\"], [0.8888888888888888, \"#fdca26\"], [1.0, \"#f0f921\"]], \"type\": \"heatmap\"}], \"heatmapgl\": [{\"colorbar\": {\"outlinewidth\": 0, \"ticks\": \"\"}, \"colorscale\": [[0.0, \"#0d0887\"], [0.1111111111111111, \"#46039f\"], [0.2222222222222222, \"#7201a8\"], [0.3333333333333333, \"#9c179e\"], [0.4444444444444444, \"#bd3786\"], [0.5555555555555556, \"#d8576b\"], [0.6666666666666666, \"#ed7953\"], [0.7777777777777778, \"#fb9f3a\"], [0.8888888888888888, \"#fdca26\"], [1.0, \"#f0f921\"]], \"type\": \"heatmapgl\"}], \"histogram\": [{\"marker\": {\"colorbar\": {\"outlinewidth\": 0, \"ticks\": \"\"}}, \"type\": \"histogram\"}], \"histogram2d\": [{\"colorbar\": {\"outlinewidth\": 0, \"ticks\": \"\"}, \"colorscale\": [[0.0, \"#0d0887\"], [0.1111111111111111, \"#46039f\"], [0.2222222222222222, \"#7201a8\"], [0.3333333333333333, \"#9c179e\"], [0.4444444444444444, \"#bd3786\"], [0.5555555555555556, \"#d8576b\"], [0.6666666666666666, \"#ed7953\"], [0.7777777777777778, \"#fb9f3a\"], [0.8888888888888888, \"#fdca26\"], [1.0, \"#f0f921\"]], \"type\": \"histogram2d\"}], \"histogram2dcontour\": [{\"colorbar\": {\"outlinewidth\": 0, \"ticks\": \"\"}, \"colorscale\": [[0.0, \"#0d0887\"], [0.1111111111111111, \"#46039f\"], [0.2222222222222222, \"#7201a8\"], [0.3333333333333333, \"#9c179e\"], [0.4444444444444444, \"#bd3786\"], [0.5555555555555556, \"#d8576b\"], [0.6666666666666666, \"#ed7953\"], [0.7777777777777778, \"#fb9f3a\"], [0.8888888888888888, \"#fdca26\"], [1.0, \"#f0f921\"]], \"type\": \"histogram2dcontour\"}], \"mesh3d\": [{\"colorbar\": {\"outlinewidth\": 0, \"ticks\": \"\"}, \"type\": \"mesh3d\"}], \"parcoords\": [{\"line\": {\"colorbar\": {\"outlinewidth\": 0, \"ticks\": \"\"}}, \"type\": \"parcoords\"}], \"pie\": [{\"automargin\": true, \"type\": \"pie\"}], \"scatter\": [{\"marker\": {\"colorbar\": {\"outlinewidth\": 0, \"ticks\": \"\"}}, \"type\": \"scatter\"}], \"scatter3d\": [{\"line\": {\"colorbar\": {\"outlinewidth\": 0, \"ticks\": \"\"}}, \"marker\": {\"colorbar\": {\"outlinewidth\": 0, \"ticks\": \"\"}}, \"type\": \"scatter3d\"}], \"scattercarpet\": [{\"marker\": {\"colorbar\": {\"outlinewidth\": 0, \"ticks\": \"\"}}, \"type\": \"scattercarpet\"}], \"scattergeo\": [{\"marker\": {\"colorbar\": {\"outlinewidth\": 0, \"ticks\": \"\"}}, \"type\": \"scattergeo\"}], \"scattergl\": [{\"marker\": {\"colorbar\": {\"outlinewidth\": 0, \"ticks\": \"\"}}, \"type\": \"scattergl\"}], \"scattermapbox\": [{\"marker\": {\"colorbar\": {\"outlinewidth\": 0, \"ticks\": \"\"}}, \"type\": \"scattermapbox\"}], \"scatterpolar\": [{\"marker\": {\"colorbar\": {\"outlinewidth\": 0, \"ticks\": \"\"}}, \"type\": \"scatterpolar\"}], \"scatterpolargl\": [{\"marker\": {\"colorbar\": {\"outlinewidth\": 0, \"ticks\": \"\"}}, \"type\": \"scatterpolargl\"}], \"scatterternary\": [{\"marker\": {\"colorbar\": {\"outlinewidth\": 0, \"ticks\": \"\"}}, \"type\": \"scatterternary\"}], \"surface\": [{\"colorbar\": {\"outlinewidth\": 0, \"ticks\": \"\"}, \"colorscale\": [[0.0, \"#0d0887\"], [0.1111111111111111, \"#46039f\"], [0.2222222222222222, \"#7201a8\"], [0.3333333333333333, \"#9c179e\"], [0.4444444444444444, \"#bd3786\"], [0.5555555555555556, \"#d8576b\"], [0.6666666666666666, \"#ed7953\"], [0.7777777777777778, \"#fb9f3a\"], [0.8888888888888888, \"#fdca26\"], [1.0, \"#f0f921\"]], \"type\": \"surface\"}], \"table\": [{\"cells\": {\"fill\": {\"color\": \"#EBF0F8\"}, \"line\": {\"color\": \"white\"}}, \"header\": {\"fill\": {\"color\": \"#C8D4E3\"}, \"line\": {\"color\": \"white\"}}, \"type\": \"table\"}]}, \"layout\": {\"annotationdefaults\": {\"arrowcolor\": \"#2a3f5f\", \"arrowhead\": 0, \"arrowwidth\": 1}, \"coloraxis\": {\"colorbar\": {\"outlinewidth\": 0, \"ticks\": \"\"}}, \"colorscale\": {\"diverging\": [[0, \"#8e0152\"], [0.1, \"#c51b7d\"], [0.2, \"#de77ae\"], [0.3, \"#f1b6da\"], [0.4, \"#fde0ef\"], [0.5, \"#f7f7f7\"], [0.6, \"#e6f5d0\"], [0.7, \"#b8e186\"], [0.8, \"#7fbc41\"], [0.9, \"#4d9221\"], [1, \"#276419\"]], \"sequential\": [[0.0, \"#0d0887\"], [0.1111111111111111, \"#46039f\"], [0.2222222222222222, \"#7201a8\"], [0.3333333333333333, \"#9c179e\"], [0.4444444444444444, \"#bd3786\"], [0.5555555555555556, \"#d8576b\"], [0.6666666666666666, \"#ed7953\"], [0.7777777777777778, \"#fb9f3a\"], [0.8888888888888888, \"#fdca26\"], [1.0, \"#f0f921\"]], \"sequentialminus\": [[0.0, \"#0d0887\"], [0.1111111111111111, \"#46039f\"], [0.2222222222222222, \"#7201a8\"], [0.3333333333333333, \"#9c179e\"], [0.4444444444444444, \"#bd3786\"], [0.5555555555555556, \"#d8576b\"], [0.6666666666666666, \"#ed7953\"], [0.7777777777777778, \"#fb9f3a\"], [0.8888888888888888, \"#fdca26\"], [1.0, \"#f0f921\"]]}, \"colorway\": [\"#636efa\", \"#EF553B\", \"#00cc96\", \"#ab63fa\", \"#FFA15A\", \"#19d3f3\", \"#FF6692\", \"#B6E880\", \"#FF97FF\", \"#FECB52\"], \"font\": {\"color\": \"#2a3f5f\"}, \"geo\": {\"bgcolor\": \"white\", \"lakecolor\": \"white\", \"landcolor\": \"#E5ECF6\", \"showlakes\": true, \"showland\": true, \"subunitcolor\": \"white\"}, \"hoverlabel\": {\"align\": \"left\"}, \"hovermode\": \"closest\", \"mapbox\": {\"style\": \"light\"}, \"paper_bgcolor\": \"white\", \"plot_bgcolor\": \"#E5ECF6\", \"polar\": {\"angularaxis\": {\"gridcolor\": \"white\", \"linecolor\": \"white\", \"ticks\": \"\"}, \"bgcolor\": \"#E5ECF6\", \"radialaxis\": {\"gridcolor\": \"white\", \"linecolor\": \"white\", \"ticks\": \"\"}}, \"scene\": {\"xaxis\": {\"backgroundcolor\": \"#E5ECF6\", \"gridcolor\": \"white\", \"gridwidth\": 2, \"linecolor\": \"white\", \"showbackground\": true, \"ticks\": \"\", \"zerolinecolor\": \"white\"}, \"yaxis\": {\"backgroundcolor\": \"#E5ECF6\", \"gridcolor\": \"white\", \"gridwidth\": 2, \"linecolor\": \"white\", \"showbackground\": true, \"ticks\": \"\", \"zerolinecolor\": \"white\"}, \"zaxis\": {\"backgroundcolor\": \"#E5ECF6\", \"gridcolor\": \"white\", \"gridwidth\": 2, \"linecolor\": \"white\", \"showbackground\": true, \"ticks\": \"\", \"zerolinecolor\": \"white\"}}, \"shapedefaults\": {\"line\": {\"color\": \"#2a3f5f\"}}, \"ternary\": {\"aaxis\": {\"gridcolor\": \"white\", \"linecolor\": \"white\", \"ticks\": \"\"}, \"baxis\": {\"gridcolor\": \"white\", \"linecolor\": \"white\", \"ticks\": \"\"}, \"bgcolor\": \"#E5ECF6\", \"caxis\": {\"gridcolor\": \"white\", \"linecolor\": \"white\", \"ticks\": \"\"}}, \"title\": {\"x\": 0.05}, \"xaxis\": {\"automargin\": true, \"gridcolor\": \"white\", \"linecolor\": \"white\", \"ticks\": \"\", \"title\": {\"standoff\": 15}, \"zerolinecolor\": \"white\", \"zerolinewidth\": 2}, \"yaxis\": {\"automargin\": true, \"gridcolor\": \"white\", \"linecolor\": \"white\", \"ticks\": \"\", \"title\": {\"standoff\": 15}, \"zerolinecolor\": \"white\", \"zerolinewidth\": 2}}}, \"title\": {\"text\": \"Boltzmann Benchmark GPU\"}, \"xaxis\": {\"anchor\": \"y\", \"domain\": [0.0, 1.0], \"title\": {\"text\": \"Number_of_Iterations\"}}, \"yaxis\": {\"anchor\": \"x\", \"domain\": [0.0, 1.0], \"title\": {\"text\": \"Speedup\"}}},\n",
              "                        {\"responsive\": true}\n",
              "                    ).then(function(){\n",
              "                            \n",
              "var gd = document.getElementById('f0919a40-b988-493e-947f-778bca8e0744');\n",
              "var x = new MutationObserver(function (mutations, observer) {{\n",
              "        var display = window.getComputedStyle(gd).display;\n",
              "        if (!display || display === 'none') {{\n",
              "            console.log([gd, 'removed!']);\n",
              "            Plotly.purge(gd);\n",
              "            observer.disconnect();\n",
              "        }}\n",
              "}});\n",
              "\n",
              "// Listen for the removal of the full notebook cells\n",
              "var notebookContainer = gd.closest('#notebook-container');\n",
              "if (notebookContainer) {{\n",
              "    x.observe(notebookContainer, {childList: true});\n",
              "}}\n",
              "\n",
              "// Listen for the clearing of the current output cell\n",
              "var outputEl = gd.closest('.output');\n",
              "if (outputEl) {{\n",
              "    x.observe(outputEl, {childList: true});\n",
              "}}\n",
              "\n",
              "                        })\n",
              "                };\n",
              "                \n",
              "            </script>\n",
              "        </div>\n",
              "</body>\n",
              "</html>"
            ]
          },
          "metadata": {
            "tags": []
          }
        }
      ]
    },
    {
      "cell_type": "code",
      "metadata": {
        "id": "vBaKnCzOHu9x"
      },
      "source": [
        ""
      ],
      "execution_count": null,
      "outputs": []
    }
  ]
}